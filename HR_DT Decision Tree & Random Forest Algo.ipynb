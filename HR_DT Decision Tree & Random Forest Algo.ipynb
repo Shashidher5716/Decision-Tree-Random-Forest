{
 "cells": [
  {
   "cell_type": "code",
   "execution_count": 1,
   "id": "b038da86",
   "metadata": {},
   "outputs": [],
   "source": [
    "# Importing the Libraries\n",
    "\n",
    "import pandas as pd\n",
    "import numpy as np\n",
    "import matplotlib.pyplot as plt\n",
    "import seaborn as sns\n"
   ]
  },
  {
   "cell_type": "code",
   "execution_count": 49,
   "id": "43e63bd9",
   "metadata": {},
   "outputs": [],
   "source": [
    "# Loading the dataset\n",
    "\n",
    "data = pd.read_csv(r\"C:\\Users\\Shashi\\Model Building\\Decision Tree\\HR_DT.csv\")"
   ]
  },
  {
   "cell_type": "code",
   "execution_count": 50,
   "id": "265abe30",
   "metadata": {},
   "outputs": [],
   "source": [
    "# import Warnings\n",
    "\n",
    "import warnings\n",
    "warnings.filterwarnings('ignore')"
   ]
  },
  {
   "cell_type": "code",
   "execution_count": 51,
   "id": "5d3b656d",
   "metadata": {},
   "outputs": [
    {
     "data": {
      "text/html": [
       "<div>\n",
       "<style scoped>\n",
       "    .dataframe tbody tr th:only-of-type {\n",
       "        vertical-align: middle;\n",
       "    }\n",
       "\n",
       "    .dataframe tbody tr th {\n",
       "        vertical-align: top;\n",
       "    }\n",
       "\n",
       "    .dataframe thead th {\n",
       "        text-align: right;\n",
       "    }\n",
       "</style>\n",
       "<table border=\"1\" class=\"dataframe\">\n",
       "  <thead>\n",
       "    <tr style=\"text-align: right;\">\n",
       "      <th></th>\n",
       "      <th>Position of the employee</th>\n",
       "      <th>no of Years of Experience of employee</th>\n",
       "      <th>monthly income of employee</th>\n",
       "    </tr>\n",
       "  </thead>\n",
       "  <tbody>\n",
       "    <tr>\n",
       "      <th>0</th>\n",
       "      <td>Business Analyst</td>\n",
       "      <td>1.1</td>\n",
       "      <td>39343</td>\n",
       "    </tr>\n",
       "    <tr>\n",
       "      <th>1</th>\n",
       "      <td>Junior Consultant</td>\n",
       "      <td>1.3</td>\n",
       "      <td>46205</td>\n",
       "    </tr>\n",
       "    <tr>\n",
       "      <th>2</th>\n",
       "      <td>Senior Consultant</td>\n",
       "      <td>1.5</td>\n",
       "      <td>37731</td>\n",
       "    </tr>\n",
       "    <tr>\n",
       "      <th>3</th>\n",
       "      <td>Manager</td>\n",
       "      <td>2.0</td>\n",
       "      <td>43525</td>\n",
       "    </tr>\n",
       "    <tr>\n",
       "      <th>4</th>\n",
       "      <td>Country Manager</td>\n",
       "      <td>2.2</td>\n",
       "      <td>39891</td>\n",
       "    </tr>\n",
       "  </tbody>\n",
       "</table>\n",
       "</div>"
      ],
      "text/plain": [
       "  Position of the employee  no of Years of Experience of employee  \\\n",
       "0         Business Analyst                                    1.1   \n",
       "1        Junior Consultant                                    1.3   \n",
       "2        Senior Consultant                                    1.5   \n",
       "3                  Manager                                    2.0   \n",
       "4          Country Manager                                    2.2   \n",
       "\n",
       "    monthly income of employee  \n",
       "0                        39343  \n",
       "1                        46205  \n",
       "2                        37731  \n",
       "3                        43525  \n",
       "4                        39891  "
      ]
     },
     "execution_count": 51,
     "metadata": {},
     "output_type": "execute_result"
    }
   ],
   "source": [
    "# Checking the head of data\n",
    "\n",
    "data.head()"
   ]
  },
  {
   "cell_type": "code",
   "execution_count": 52,
   "id": "6448ca30",
   "metadata": {},
   "outputs": [],
   "source": [
    "# Renaming the Column names\n",
    "\n",
    "data.columns = ['Position_of_the_employee', 'no_of_Years_of_Experience_of_employee', 'monthly_income_of_employee']"
   ]
  },
  {
   "cell_type": "code",
   "execution_count": 53,
   "id": "162fc9b0",
   "metadata": {},
   "outputs": [
    {
     "data": {
      "text/plain": [
       "122391"
      ]
     },
     "execution_count": 53,
     "metadata": {},
     "output_type": "execute_result"
    }
   ],
   "source": [
    "data['monthly_income_of_employee'].max()"
   ]
  },
  {
   "cell_type": "code",
   "execution_count": 54,
   "id": "ab68d49b",
   "metadata": {},
   "outputs": [
    {
     "data": {
      "text/plain": [
       "38"
      ]
     },
     "execution_count": 54,
     "metadata": {},
     "output_type": "execute_result"
    }
   ],
   "source": [
    "# Checking the duplicates\n",
    "\n",
    "data.duplicated().sum()"
   ]
  },
  {
   "cell_type": "code",
   "execution_count": 55,
   "id": "43aa70a2",
   "metadata": {},
   "outputs": [],
   "source": [
    "data = data.drop_duplicates()"
   ]
  },
  {
   "cell_type": "code",
   "execution_count": 56,
   "id": "e76b6425",
   "metadata": {},
   "outputs": [
    {
     "data": {
      "text/plain": [
       "0"
      ]
     },
     "execution_count": 56,
     "metadata": {},
     "output_type": "execute_result"
    }
   ],
   "source": [
    "data.duplicated().sum()"
   ]
  },
  {
   "cell_type": "code",
   "execution_count": 57,
   "id": "cd1e64e0",
   "metadata": {},
   "outputs": [
    {
     "data": {
      "text/plain": [
       "no_of_Years_of_Experience_of_employee    False\n",
       "monthly_income_of_employee               False\n",
       "dtype: bool"
      ]
     },
     "execution_count": 57,
     "metadata": {},
     "output_type": "execute_result"
    }
   ],
   "source": [
    "# Checking the Zero Variance\n",
    "\n",
    "data.var() == 0"
   ]
  },
  {
   "cell_type": "code",
   "execution_count": 58,
   "id": "8dff7512",
   "metadata": {},
   "outputs": [
    {
     "data": {
      "text/plain": [
       "Position_of_the_employee                 0\n",
       "no_of_Years_of_Experience_of_employee    0\n",
       "monthly_income_of_employee               0\n",
       "dtype: int64"
      ]
     },
     "execution_count": 58,
     "metadata": {},
     "output_type": "execute_result"
    }
   ],
   "source": [
    "# Checking the Missing Values\n",
    "\n",
    "data.isna().sum()"
   ]
  },
  {
   "cell_type": "code",
   "execution_count": 59,
   "id": "02b2e471",
   "metadata": {},
   "outputs": [
    {
     "data": {
      "text/plain": [
       "No     97\n",
       "Yes    61\n",
       "Name: monthly_income_of_employee, dtype: int64"
      ]
     },
     "execution_count": 59,
     "metadata": {},
     "output_type": "execute_result"
    }
   ],
   "source": [
    "# Discretization the Taxable.Income column\n",
    "\n",
    "bin_Tax = ['No','Yes']# list of labels under which countinuos data grouped\n",
    "\n",
    "#Creating new cols TaxBin and dividing 'Taxable.Income' cols on the basis of [10002,30000,99620] for Risky and Good\n",
    "data[\"monthly_income_of_employee\"] = pd.cut(data[\"monthly_income_of_employee\"], bins = [30000,70000,122391], labels = bin_Tax)\n",
    "count= data['monthly_income_of_employee'].value_counts()\n",
    "count"
   ]
  },
  {
   "cell_type": "code",
   "execution_count": 60,
   "id": "8e647644",
   "metadata": {},
   "outputs": [
    {
     "data": {
      "text/html": [
       "<div>\n",
       "<style scoped>\n",
       "    .dataframe tbody tr th:only-of-type {\n",
       "        vertical-align: middle;\n",
       "    }\n",
       "\n",
       "    .dataframe tbody tr th {\n",
       "        vertical-align: top;\n",
       "    }\n",
       "\n",
       "    .dataframe thead th {\n",
       "        text-align: right;\n",
       "    }\n",
       "</style>\n",
       "<table border=\"1\" class=\"dataframe\">\n",
       "  <thead>\n",
       "    <tr style=\"text-align: right;\">\n",
       "      <th></th>\n",
       "      <th>Position_of_the_employee</th>\n",
       "      <th>no_of_Years_of_Experience_of_employee</th>\n",
       "      <th>monthly_income_of_employee</th>\n",
       "    </tr>\n",
       "  </thead>\n",
       "  <tbody>\n",
       "    <tr>\n",
       "      <th>0</th>\n",
       "      <td>Business Analyst</td>\n",
       "      <td>1.1</td>\n",
       "      <td>No</td>\n",
       "    </tr>\n",
       "    <tr>\n",
       "      <th>1</th>\n",
       "      <td>Junior Consultant</td>\n",
       "      <td>1.3</td>\n",
       "      <td>No</td>\n",
       "    </tr>\n",
       "    <tr>\n",
       "      <th>2</th>\n",
       "      <td>Senior Consultant</td>\n",
       "      <td>1.5</td>\n",
       "      <td>No</td>\n",
       "    </tr>\n",
       "    <tr>\n",
       "      <th>3</th>\n",
       "      <td>Manager</td>\n",
       "      <td>2.0</td>\n",
       "      <td>No</td>\n",
       "    </tr>\n",
       "    <tr>\n",
       "      <th>4</th>\n",
       "      <td>Country Manager</td>\n",
       "      <td>2.2</td>\n",
       "      <td>No</td>\n",
       "    </tr>\n",
       "    <tr>\n",
       "      <th>...</th>\n",
       "      <td>...</td>\n",
       "      <td>...</td>\n",
       "      <td>...</td>\n",
       "    </tr>\n",
       "    <tr>\n",
       "      <th>191</th>\n",
       "      <td>Region Manager</td>\n",
       "      <td>3.9</td>\n",
       "      <td>No</td>\n",
       "    </tr>\n",
       "    <tr>\n",
       "      <th>192</th>\n",
       "      <td>Partner</td>\n",
       "      <td>4.0</td>\n",
       "      <td>No</td>\n",
       "    </tr>\n",
       "    <tr>\n",
       "      <th>193</th>\n",
       "      <td>Senior Partner</td>\n",
       "      <td>4.0</td>\n",
       "      <td>No</td>\n",
       "    </tr>\n",
       "    <tr>\n",
       "      <th>194</th>\n",
       "      <td>C-level</td>\n",
       "      <td>4.1</td>\n",
       "      <td>No</td>\n",
       "    </tr>\n",
       "    <tr>\n",
       "      <th>195</th>\n",
       "      <td>CEO</td>\n",
       "      <td>4.5</td>\n",
       "      <td>No</td>\n",
       "    </tr>\n",
       "  </tbody>\n",
       "</table>\n",
       "<p>158 rows × 3 columns</p>\n",
       "</div>"
      ],
      "text/plain": [
       "    Position_of_the_employee  no_of_Years_of_Experience_of_employee  \\\n",
       "0           Business Analyst                                    1.1   \n",
       "1          Junior Consultant                                    1.3   \n",
       "2          Senior Consultant                                    1.5   \n",
       "3                    Manager                                    2.0   \n",
       "4            Country Manager                                    2.2   \n",
       "..                       ...                                    ...   \n",
       "191           Region Manager                                    3.9   \n",
       "192                  Partner                                    4.0   \n",
       "193           Senior Partner                                    4.0   \n",
       "194                  C-level                                    4.1   \n",
       "195                      CEO                                    4.5   \n",
       "\n",
       "    monthly_income_of_employee  \n",
       "0                           No  \n",
       "1                           No  \n",
       "2                           No  \n",
       "3                           No  \n",
       "4                           No  \n",
       "..                         ...  \n",
       "191                         No  \n",
       "192                         No  \n",
       "193                         No  \n",
       "194                         No  \n",
       "195                         No  \n",
       "\n",
       "[158 rows x 3 columns]"
      ]
     },
     "execution_count": 60,
     "metadata": {},
     "output_type": "execute_result"
    }
   ],
   "source": [
    "data"
   ]
  },
  {
   "cell_type": "code",
   "execution_count": 62,
   "id": "4bf39d64",
   "metadata": {},
   "outputs": [
    {
     "data": {
      "text/plain": [
       "Partner              20\n",
       "Region Manager       19\n",
       "Senior Partner       19\n",
       "C-level              19\n",
       "CEO                  16\n",
       "Manager              15\n",
       "Country Manager      15\n",
       "Senior Consultant    14\n",
       "Junior Consultant    13\n",
       "Business Analyst      8\n",
       "Name: Position_of_the_employee, dtype: int64"
      ]
     },
     "execution_count": 62,
     "metadata": {},
     "output_type": "execute_result"
    }
   ],
   "source": [
    "data['Position_of_the_employee'].value_counts()"
   ]
  },
  {
   "cell_type": "code",
   "execution_count": 63,
   "id": "c5d62b3b",
   "metadata": {},
   "outputs": [],
   "source": [
    "# Encoding - LabelEncoder\n",
    "\n",
    "from sklearn.preprocessing import LabelEncoder"
   ]
  },
  {
   "cell_type": "code",
   "execution_count": 64,
   "id": "0b47d52a",
   "metadata": {},
   "outputs": [],
   "source": [
    "enc = LabelEncoder()\n",
    "\n",
    "data['Position_of_the_employee'] = enc.fit_transform(data['Position_of_the_employee'])"
   ]
  },
  {
   "cell_type": "code",
   "execution_count": 65,
   "id": "9ee49e04",
   "metadata": {},
   "outputs": [
    {
     "data": {
      "text/html": [
       "<div>\n",
       "<style scoped>\n",
       "    .dataframe tbody tr th:only-of-type {\n",
       "        vertical-align: middle;\n",
       "    }\n",
       "\n",
       "    .dataframe tbody tr th {\n",
       "        vertical-align: top;\n",
       "    }\n",
       "\n",
       "    .dataframe thead th {\n",
       "        text-align: right;\n",
       "    }\n",
       "</style>\n",
       "<table border=\"1\" class=\"dataframe\">\n",
       "  <thead>\n",
       "    <tr style=\"text-align: right;\">\n",
       "      <th></th>\n",
       "      <th>Position_of_the_employee</th>\n",
       "      <th>no_of_Years_of_Experience_of_employee</th>\n",
       "      <th>monthly_income_of_employee</th>\n",
       "    </tr>\n",
       "  </thead>\n",
       "  <tbody>\n",
       "    <tr>\n",
       "      <th>0</th>\n",
       "      <td>0</td>\n",
       "      <td>1.1</td>\n",
       "      <td>No</td>\n",
       "    </tr>\n",
       "    <tr>\n",
       "      <th>1</th>\n",
       "      <td>4</td>\n",
       "      <td>1.3</td>\n",
       "      <td>No</td>\n",
       "    </tr>\n",
       "    <tr>\n",
       "      <th>2</th>\n",
       "      <td>8</td>\n",
       "      <td>1.5</td>\n",
       "      <td>No</td>\n",
       "    </tr>\n",
       "    <tr>\n",
       "      <th>3</th>\n",
       "      <td>5</td>\n",
       "      <td>2.0</td>\n",
       "      <td>No</td>\n",
       "    </tr>\n",
       "    <tr>\n",
       "      <th>4</th>\n",
       "      <td>3</td>\n",
       "      <td>2.2</td>\n",
       "      <td>No</td>\n",
       "    </tr>\n",
       "    <tr>\n",
       "      <th>...</th>\n",
       "      <td>...</td>\n",
       "      <td>...</td>\n",
       "      <td>...</td>\n",
       "    </tr>\n",
       "    <tr>\n",
       "      <th>191</th>\n",
       "      <td>7</td>\n",
       "      <td>3.9</td>\n",
       "      <td>No</td>\n",
       "    </tr>\n",
       "    <tr>\n",
       "      <th>192</th>\n",
       "      <td>6</td>\n",
       "      <td>4.0</td>\n",
       "      <td>No</td>\n",
       "    </tr>\n",
       "    <tr>\n",
       "      <th>193</th>\n",
       "      <td>9</td>\n",
       "      <td>4.0</td>\n",
       "      <td>No</td>\n",
       "    </tr>\n",
       "    <tr>\n",
       "      <th>194</th>\n",
       "      <td>1</td>\n",
       "      <td>4.1</td>\n",
       "      <td>No</td>\n",
       "    </tr>\n",
       "    <tr>\n",
       "      <th>195</th>\n",
       "      <td>2</td>\n",
       "      <td>4.5</td>\n",
       "      <td>No</td>\n",
       "    </tr>\n",
       "  </tbody>\n",
       "</table>\n",
       "<p>158 rows × 3 columns</p>\n",
       "</div>"
      ],
      "text/plain": [
       "     Position_of_the_employee  no_of_Years_of_Experience_of_employee  \\\n",
       "0                           0                                    1.1   \n",
       "1                           4                                    1.3   \n",
       "2                           8                                    1.5   \n",
       "3                           5                                    2.0   \n",
       "4                           3                                    2.2   \n",
       "..                        ...                                    ...   \n",
       "191                         7                                    3.9   \n",
       "192                         6                                    4.0   \n",
       "193                         9                                    4.0   \n",
       "194                         1                                    4.1   \n",
       "195                         2                                    4.5   \n",
       "\n",
       "    monthly_income_of_employee  \n",
       "0                           No  \n",
       "1                           No  \n",
       "2                           No  \n",
       "3                           No  \n",
       "4                           No  \n",
       "..                         ...  \n",
       "191                         No  \n",
       "192                         No  \n",
       "193                         No  \n",
       "194                         No  \n",
       "195                         No  \n",
       "\n",
       "[158 rows x 3 columns]"
      ]
     },
     "execution_count": 65,
     "metadata": {},
     "output_type": "execute_result"
    }
   ],
   "source": [
    "data"
   ]
  },
  {
   "cell_type": "code",
   "execution_count": 67,
   "id": "b58a1c69",
   "metadata": {},
   "outputs": [],
   "source": [
    "# Partner              6\n",
    "# Region Manager       7\n",
    "# Senior Partner       9\n",
    "# C-level              1\n",
    "# CEO                  2\n",
    "# Manager              5\n",
    "# Country Manager      3\n",
    "# Senior Consultant    8\n",
    "# Junior Consultant    4\n",
    "# Business Analyst     0"
   ]
  },
  {
   "cell_type": "code",
   "execution_count": 68,
   "id": "8a421f2b",
   "metadata": {},
   "outputs": [],
   "source": [
    "# Spliting the data\n",
    "\n",
    "X = data.drop('monthly_income_of_employee', axis =1)\n",
    "Y = data.monthly_income_of_employee"
   ]
  },
  {
   "cell_type": "code",
   "execution_count": 69,
   "id": "f967bd84",
   "metadata": {},
   "outputs": [],
   "source": [
    "# Importing the train_test_split\n",
    "\n",
    "from sklearn.model_selection import train_test_split\n",
    "\n",
    "x_train, x_test, y_train, y_test = train_test_split(X, Y, test_size = 0.2, random_state = 0)"
   ]
  },
  {
   "cell_type": "code",
   "execution_count": 70,
   "id": "38c5adc2",
   "metadata": {},
   "outputs": [],
   "source": [
    "# Creating the model\n",
    "\n",
    "from sklearn.tree import DecisionTreeClassifier as DT"
   ]
  },
  {
   "cell_type": "code",
   "execution_count": 71,
   "id": "639c0250",
   "metadata": {},
   "outputs": [
    {
     "data": {
      "text/plain": [
       "1.0"
      ]
     },
     "execution_count": 71,
     "metadata": {},
     "output_type": "execute_result"
    }
   ],
   "source": [
    "model = DT()\n",
    "model.fit(x_train, y_train)\n",
    "\n",
    "# Checking the model score\n",
    "\n",
    "model.score(X, Y)"
   ]
  },
  {
   "cell_type": "code",
   "execution_count": 72,
   "id": "964bfbb9",
   "metadata": {},
   "outputs": [
    {
     "data": {
      "text/plain": [
       "1.0"
      ]
     },
     "execution_count": 72,
     "metadata": {},
     "output_type": "execute_result"
    }
   ],
   "source": [
    "# Prediction on Test Data\n",
    "y_pred = model.predict(x_test)\n",
    "pd.crosstab(y_pred, y_test)\n",
    "\n",
    "np.mean(y_pred == y_test) # Test Data Accuracy "
   ]
  },
  {
   "cell_type": "code",
   "execution_count": 73,
   "id": "7d4f1c76",
   "metadata": {},
   "outputs": [
    {
     "data": {
      "text/plain": [
       "1.0"
      ]
     },
     "execution_count": 73,
     "metadata": {},
     "output_type": "execute_result"
    }
   ],
   "source": [
    "# Prediction on Train Data\n",
    "y_preds = model.predict(x_train)\n",
    "pd.crosstab(y_preds, y_train)\n",
    "\n",
    "np.mean(y_preds == y_train) # Train Data Accuracy"
   ]
  },
  {
   "cell_type": "code",
   "execution_count": 74,
   "id": "f28de347",
   "metadata": {},
   "outputs": [],
   "source": [
    "# Creating another model called Random Forest\n",
    "\n",
    "from sklearn.ensemble import RandomForestClassifier"
   ]
  },
  {
   "cell_type": "code",
   "execution_count": 75,
   "id": "01d5b69a",
   "metadata": {},
   "outputs": [
    {
     "data": {
      "text/plain": [
       "1.0"
      ]
     },
     "execution_count": 75,
     "metadata": {},
     "output_type": "execute_result"
    }
   ],
   "source": [
    "model = RandomForestClassifier()\n",
    "model.fit(x_train, y_train)\n",
    "\n",
    "# Checking the model Score\n",
    "model.score(X, Y)"
   ]
  },
  {
   "cell_type": "code",
   "execution_count": 76,
   "id": "c5bf23c9",
   "metadata": {},
   "outputs": [
    {
     "data": {
      "text/plain": [
       "1.0"
      ]
     },
     "execution_count": 76,
     "metadata": {},
     "output_type": "execute_result"
    }
   ],
   "source": [
    "# Prediction on Test Data\n",
    "y_pred = model.predict(x_test)\n",
    "pd.crosstab(y_pred, y_test)\n",
    "\n",
    "np.mean(y_pred == y_test) # Test Data Accuracy "
   ]
  },
  {
   "cell_type": "code",
   "execution_count": 77,
   "id": "af5b92e9",
   "metadata": {},
   "outputs": [
    {
     "data": {
      "text/plain": [
       "1.0"
      ]
     },
     "execution_count": 77,
     "metadata": {},
     "output_type": "execute_result"
    }
   ],
   "source": [
    "# Prediction on Train Data\n",
    "y_preds = model.predict(x_train)\n",
    "pd.crosstab(y_preds, y_train)\n",
    "\n",
    "np.mean(y_preds == y_train) # Train Data Accuracy"
   ]
  },
  {
   "cell_type": "code",
   "execution_count": 81,
   "id": "ca98b3a4",
   "metadata": {},
   "outputs": [
    {
     "data": {
      "text/plain": [
       "array(['No'], dtype=object)"
      ]
     },
     "execution_count": 81,
     "metadata": {},
     "output_type": "execute_result"
    }
   ],
   "source": [
    "model.predict([[2, 4.5]])"
   ]
  },
  {
   "cell_type": "code",
   "execution_count": 83,
   "id": "9fc8d4eb",
   "metadata": {},
   "outputs": [],
   "source": [
    "# Here 2 -> CEO, 4.5 -> no_of_Years_of_Experience_of_employee, monthly_income_of_employee -> 67938 < 70,000, that's why result is No"
   ]
  },
  {
   "cell_type": "code",
   "execution_count": 84,
   "id": "c2d9447b",
   "metadata": {},
   "outputs": [
    {
     "data": {
      "text/plain": [
       "array(['Yes'], dtype=object)"
      ]
     },
     "execution_count": 84,
     "metadata": {},
     "output_type": "execute_result"
    }
   ],
   "source": [
    "model.predict([[3, 10.3]])"
   ]
  },
  {
   "cell_type": "code",
   "execution_count": 85,
   "id": "27f1107a",
   "metadata": {},
   "outputs": [],
   "source": [
    "# Here 3 -> Country Manager, 10.3 -> no_of_Years_of_Experience_of_employee, monthly_income_of_employee -> 1,20,000 > 70,000, that's why result is Yes"
   ]
  },
  {
   "cell_type": "markdown",
   "id": "aae920a7",
   "metadata": {},
   "source": [
    "## Result : In this model, I created a good model which gives 100% correct result, which i explained at bottom, concluding this model is right fit.  "
   ]
  },
  {
   "cell_type": "code",
   "execution_count": null,
   "id": "4c62c1b6",
   "metadata": {},
   "outputs": [],
   "source": []
  }
 ],
 "metadata": {
  "kernelspec": {
   "display_name": "Python 3 (ipykernel)",
   "language": "python",
   "name": "python3"
  },
  "language_info": {
   "codemirror_mode": {
    "name": "ipython",
    "version": 3
   },
   "file_extension": ".py",
   "mimetype": "text/x-python",
   "name": "python",
   "nbconvert_exporter": "python",
   "pygments_lexer": "ipython3",
   "version": "3.9.13"
  }
 },
 "nbformat": 4,
 "nbformat_minor": 5
}
